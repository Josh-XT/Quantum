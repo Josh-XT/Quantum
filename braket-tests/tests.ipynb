{
 "cells": [
  {
   "attachments": {},
   "cell_type": "markdown",
   "metadata": {},
   "source": [
    "# Amazon Braket tests"
   ]
  },
  {
   "cell_type": "code",
   "execution_count": 3,
   "metadata": {},
   "outputs": [
    {
     "name": "stdout",
     "output_type": "stream",
     "text": [
      "Counter({'00': 55, '11': 45})\n"
     ]
    }
   ],
   "source": [
    "from braket.circuits import Circuit\n",
    "from braket.devices import LocalSimulator\n",
    "device = LocalSimulator()\n",
    "bell = Circuit().h(0).cnot(0, 1) \n",
    "bell_result = device.run(bell, shots=100).result().measurement_counts\n",
    "print(bell_result)"
   ]
  },
  {
   "cell_type": "code",
   "execution_count": 4,
   "metadata": {},
   "outputs": [
    {
     "data": {
      "image/png": "[encoded data removed]",
      "text/plain": [
       "<Figure size 640x480 with 1 Axes>"
      ]
     },
     "metadata": {},
     "output_type": "display_data"
    }
   ],
   "source": [
    "import matplotlib.pyplot as plt\n",
    "plt.bar(bell_result.keys(), bell_result.values())\n",
    "plt.show()"
   ]
  },
  {
   "attachments": {},
   "cell_type": "markdown",
   "metadata": {},
   "source": [
    "## Amazon Braket with Qiskit\n",
    "We can use the ``qiskit_braket_provider`` library to use our prexisting Qiskit code on Quantum Computers available on AWS Braket.\n",
    "\n",
    "Built this into ``qk.ipynb`` in the ``qiskit-tests`` folder in the ``prepare_quantum_circuit`` function."
   ]
  },
  {
   "cell_type": "code",
   "execution_count": 1,
   "metadata": {},
   "outputs": [],
   "source": [
    "from qiskit_braket_provider import AWSBraketProvider\n",
    "aws_provider = AWSBraketProvider()\n",
    "backends = aws_provider.backends()"
   ]
  },
  {
   "cell_type": "code",
   "execution_count": 2,
   "metadata": {},
   "outputs": [
    {
     "name": "stdout",
     "output_type": "stream",
     "text": [
      "Aspen-10\n",
      "Aspen-11\n",
      "Aspen-8\n",
      "Aspen-9\n",
      "Aspen-M-1\n",
      "Aspen-M-2\n",
      "Aspen-M-3\n",
      "IonQ Device\n",
      "Lucy\n",
      "SV1\n",
      "TN1\n",
      "dm1\n"
     ]
    }
   ],
   "source": [
    "for backend in backends:\n",
    "    print(backend.name)\n"
   ]
  },
  {
   "cell_type": "code",
   "execution_count": null,
   "metadata": {},
   "outputs": [],
   "source": []
  }
 ],
 "metadata": {
  "kernelspec": {
   "display_name": "Python 3",
   "language": "python",
   "name": "python3"
  },
  "language_info": {
   "codemirror_mode": {
    "name": "ipython",
    "version": 3
   },
   "file_extension": ".py",
   "mimetype": "text/x-python",
   "name": "python",
   "nbconvert_exporter": "python",
   "pygments_lexer": "ipython3",
   "version": "3.10.6"
  },
  "orig_nbformat": 4,
  "vscode": {
   "interpreter": {
    "hash": "916dbcbb3f70747c44a77c7bcd40155683ae19c65e1c03b4aa3499c5328201f1"
   }
  }
 },
 "nbformat": 4,
 "nbformat_minor": 2
}
