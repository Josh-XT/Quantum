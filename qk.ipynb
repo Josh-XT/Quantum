{
 "cells": [
  {
   "cell_type": "code",
   "execution_count": 34,
   "metadata": {},
   "outputs": [
    {
     "name": "stderr",
     "output_type": "stream",
     "text": [
      "ibmqfactory.load_account:WARNING:2023-01-09 14:12:37,850: Credentials are already in use. The existing account in the session will be replaced.\n"
     ]
    }
   ],
   "source": [
    "import os\n",
    "from qiskit import QuantumRegister, ClassicalRegister, QuantumCircuit, execute, Aer, IBMQ\n",
    "from qiskit.tools.visualization import plot_histogram\n",
    "from dotenv import load_dotenv\n",
    "# Load the API key from the .env file\n",
    "load_dotenv()\n",
    "IBM_TOKEN = os.getenv('IBM_TOKEN')\n",
    "IBMQ.delete_account()\n",
    "IBMQ.save_account(IBM_TOKEN)\n",
    "IBMQ.load_account()\n",
    "\n",
    "# Define functions to simplify interactions with quantum computers\n",
    "def get_quantum_computer(qubits=2, simulation=False, verbose=False):\n",
    "    # Finds a quantum computer at IBM with the lowest queue as long as it has enough qubits for the circuit\n",
    "    if simulation == False: # Execute the circuit on a quantum computer at IBM\n",
    "        lowest = float('inf')\n",
    "        provider = IBMQ.get_provider(hub='ibm-q')\n",
    "        for backend in provider.backends():\n",
    "            try:\n",
    "                if \"simulator\" not in backend.name():\n",
    "                    queue = backend.status().pending_jobs\n",
    "                    qubit_count = len(backend.properties().qubits)\n",
    "                    if qubit_count >= qubits:\n",
    "                        if queue < lowest:\n",
    "                            lowest = queue\n",
    "                            quantum_computer = provider.get_backend(backend.name())\n",
    "                        if verbose == True:\n",
    "                            print(f\"Quantum Computer {backend.name()} has {queue} queued jobs and {qubit_count} qubits\")\n",
    "                    else:\n",
    "                        if verbose == True:\n",
    "                            print(f\"Quantum Computer {backend.name()} has {qubit_count} qubits, but we need {qubits} qubits\")\n",
    "            except:\n",
    "                print(f\"Quantum Computer {backend.name()} is not operational\")\n",
    "        if quantum_computer is None:\n",
    "            print(f\"No Quantum Computers available with {qubits} qubits, using simulator\")\n",
    "    if simulation == True or quantum_computer is None: # Execute the circuit on the simulator\n",
    "        quantum_computer = Aer.get_backend('qasm_simulator')\n",
    "        if verbose == True:\n",
    "            print(f\"Using Quantum Computer Simulator\")\n",
    "    if verbose == True and simulation == False:\n",
    "        print(f\"Using Quantum Computer: {quantum_computer.name()} with {quantum_computer.status().pending_jobs} queued jobs\")\n",
    "    return quantum_computer\n",
    "\n",
    "def prepare_quantum_circuit(qubits=2, classical_bits=2, simulation=False, verbose=False):\n",
    "    # Create registers for the circuit\n",
    "    quantum_register = QuantumRegister(qubits)\n",
    "    classical_register = ClassicalRegister(classical_bits)\n",
    "    # Create a Quantum Circuit\n",
    "    quantum_circuit = QuantumCircuit(quantum_register, classical_register)\n",
    "    # Get a quantum computer with at least the number of selected qubits for the circuit and the lowest queue, or the simulator\n",
    "    quantum_computer = get_quantum_computer(qubits=qubits, simulation=simulation, verbose=verbose)\n",
    "    return quantum_circuit, quantum_register, classical_register, quantum_computer\n",
    "\n",
    "def execute_quantum_circuit(quantum_circuit, quantum_computer, shots=500, verbose=False):\n",
    "    queue_position = quantum_computer.status().pending_jobs + 1\n",
    "    if verbose == True:\n",
    "        print(f\"Your job is number {queue_position} in the queue on {quantum_computer.name()}.  Please wait...\")\n",
    "    result = execute(quantum_circuit, backend=quantum_computer, shots=shots).result()\n",
    "    counts = result.get_counts(quantum_circuit)\n",
    "    if verbose == True:\n",
    "        print(f\"{result.status} in {result.time_taken} seconds on {quantum_computer.name()}\")\n",
    "    highest_probable = result.get_counts(quantum_circuit).most_frequent()\n",
    "    if verbose == True:\n",
    "        probability = 100 * float(result.get_counts(quantum_circuit)[highest_probable])/float(shots)\n",
    "        print(f\"The probable result was {highest_probable} with {probability}% probability\")\n",
    "    return highest_probable, result, counts\n",
    "\n",
    "def bell_state_circuit(quantum_circuit, quantum_register, classical_register):\n",
    "    # Build a Bell State circuit\n",
    "    # https://en.wikipedia.org/wiki/Bell_state\n",
    "    quantum_circuit.h(quantum_register[0])\n",
    "    quantum_circuit.cx(quantum_register[0], quantum_register[1])\n",
    "    quantum_circuit.measure(quantum_register, classical_register)\n",
    "    drawing = quantum_circuit.draw()\n",
    "    return quantum_circuit, drawing"
   ]
  },
  {
   "cell_type": "code",
   "execution_count": 35,
   "metadata": {},
   "outputs": [
    {
     "name": "stdout",
     "output_type": "stream",
     "text": [
      "Quantum Computer ibmq_lima has 7 queued jobs and 5 qubits\n",
      "Quantum Computer ibmq_belem has 11 queued jobs and 5 qubits\n",
      "Quantum Computer ibmq_quito has 15 queued jobs and 5 qubits\n",
      "Quantum Computer ibmq_manila has 88 queued jobs and 5 qubits\n",
      "Quantum Computer ibm_nairobi has 43 queued jobs and 7 qubits\n",
      "Quantum Computer ibm_oslo has 23 queued jobs and 7 qubits\n",
      "Using Quantum Computer: ibmq_lima with 6 queued jobs\n"
     ]
    },
    {
     "data": {
      "text/html": [
       "<pre style=\"word-wrap: normal;white-space: pre;background: #fff0;line-height: 1.1;font-family: &quot;Courier New&quot;,Courier,monospace\">       ┌───┐     ┌─┐   \n",
       "q30_0: ┤ H ├──■──┤M├───\n",
       "       └───┘┌─┴─┐└╥┘┌─┐\n",
       "q30_1: ─────┤ X ├─╫─┤M├\n",
       "            └───┘ ║ └╥┘\n",
       " c9: 2/═══════════╩══╩═\n",
       "                  0  1 </pre>"
      ],
      "text/plain": [
       "       ┌───┐     ┌─┐   \n",
       "q30_0: ┤ H ├──■──┤M├───\n",
       "       └───┘┌─┴─┐└╥┘┌─┐\n",
       "q30_1: ─────┤ X ├─╫─┤M├\n",
       "            └───┘ ║ └╥┘\n",
       " c9: 2/═══════════╩══╩═\n",
       "                  0  1 "
      ]
     },
     "execution_count": 35,
     "metadata": {},
     "output_type": "execute_result"
    }
   ],
   "source": [
    "# Set up the circuit\n",
    "quantum_circuit, quantum_register, classical_register, quantum_computer = prepare_quantum_circuit(qubits=2, classical_bits=2, simulation=False, verbose=True)\n",
    "# Build a Bell State circuit\n",
    "quantum_circuit, drawing = bell_state_circuit(quantum_circuit, quantum_register, classical_register)\n",
    "drawing"
   ]
  },
  {
   "cell_type": "code",
   "execution_count": 36,
   "metadata": {},
   "outputs": [
    {
     "name": "stdout",
     "output_type": "stream",
     "text": [
      "Your job is number 7 in the queue on ibmq_lima.  Please wait...\n",
      "Successful completion in 2.763986587524414 seconds on ibmq_lima\n",
      "The probable result was 00 with 52.6% probability\n"
     ]
    }
   ],
   "source": [
    "# Execute the circuit\n",
    "highest_probable, result, counts = execute_quantum_circuit(quantum_circuit, quantum_computer, shots=500, verbose=True)"
   ]
  },
  {
   "cell_type": "code",
   "execution_count": 37,
   "metadata": {},
   "outputs": [
    {
     "data": {
      "image/png": "[encoded data removed]",
      "text/plain": [
       "<Figure size 700x500 with 1 Axes>"
      ]
     },
     "execution_count": 37,
     "metadata": {},
     "output_type": "execute_result"
    }
   ],
   "source": [
    "# Plot the results\n",
    "plot_histogram(counts)"
   ]
  }
 ],
 "metadata": {
  "kernelspec": {
   "display_name": "Python 3",
   "language": "python",
   "name": "python3"
  },
  "language_info": {
   "codemirror_mode": {
    "name": "ipython",
    "version": 3
   },
   "file_extension": ".py",
   "mimetype": "text/x-python",
   "name": "python",
   "nbconvert_exporter": "python",
   "pygments_lexer": "ipython3",
   "version": "3.10.6"
  },
  "orig_nbformat": 4,
  "vscode": {
   "interpreter": {
    "hash": "916dbcbb3f70747c44a77c7bcd40155683ae19c65e1c03b4aa3499c5328201f1"
   }
  }
 },
 "nbformat": 4,
 "nbformat_minor": 2
}
