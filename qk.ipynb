{
 "cells": [
  {
   "cell_type": "code",
   "execution_count": 2,
   "metadata": {},
   "outputs": [
    {
     "name": "stderr",
     "output_type": "stream",
     "text": [
      "configrc.store_credentials:WARNING:2023-01-09 07:16:52,447: Credentials already present. Set overwrite=True to overwrite.\n"
     ]
    },
    {
     "data": {
      "text/plain": [
       "<AccountProvider for IBMQ(hub='ibm-q', group='open', project='main')>"
      ]
     },
     "execution_count": 2,
     "metadata": {},
     "output_type": "execute_result"
    }
   ],
   "source": [
    "from qiskit import *\n",
    "from dotenv import load_dotenv\n",
    "import os\n",
    "from qiskit.tools.visualization import plot_histogram\n",
    "# Load the API key from the .env file\n",
    "load_dotenv()\n",
    "IBM_TOKEN = os.getenv('IBM_TOKEN')\n",
    "IBMQ.save_account(IBM_TOKEN)\n",
    "\n",
    "IBMQ.load_account()"
   ]
  },
  {
   "cell_type": "code",
   "execution_count": 7,
   "metadata": {},
   "outputs": [
    {
     "name": "stdout",
     "output_type": "stream",
     "text": [
      "Quantum Computer ibmq_lima has 0 queued jobs and 5 qubits\n",
      "Quantum Computer ibmq_belem has 11 queued jobs and 5 qubits\n",
      "Quantum Computer ibmq_quito has 13 queued jobs and 5 qubits\n",
      "Quantum Computer ibmq_manila has 67 queued jobs and 5 qubits\n",
      "Quantum Computer ibm_nairobi has 40 queued jobs and 7 qubits\n",
      "Quantum Computer ibm_oslo has 15 queued jobs and 7 qubits\n",
      "Using Quantum Computer: ibmq_lima with 0 queued jobs\n"
     ]
    },
    {
     "data": {
      "text/html": [
       "<pre style=\"word-wrap: normal;white-space: pre;background: #fff0;line-height: 1.1;font-family: &quot;Courier New&quot;,Courier,monospace\">      ┌───┐     ┌─┐   \n",
       "q5_0: ┤ H ├──■──┤M├───\n",
       "      └───┘┌─┴─┐└╥┘┌─┐\n",
       "q5_1: ─────┤ X ├─╫─┤M├\n",
       "           └───┘ ║ └╥┘\n",
       "c2: 2/═══════════╩══╩═\n",
       "                 0  1 </pre>"
      ],
      "text/plain": [
       "      ┌───┐     ┌─┐   \n",
       "q5_0: ┤ H ├──■──┤M├───\n",
       "      └───┘┌─┴─┐└╥┘┌─┐\n",
       "q5_1: ─────┤ X ├─╫─┤M├\n",
       "           └───┘ ║ └╥┘\n",
       "c2: 2/═══════════╩══╩═\n",
       "                 0  1 "
      ]
     },
     "execution_count": 7,
     "metadata": {},
     "output_type": "execute_result"
    }
   ],
   "source": [
    "def get_quantum_computer(qubits=2, simulation=False):\n",
    "    # Finds a quantum computer at IBM with the lowest queue as long as it has enough qubits for the circuit\n",
    "    if simulation == False: # Execute the circuit on a quantum computer at IBM\n",
    "        lowest = float('inf')\n",
    "        provider = IBMQ.get_provider(hub='ibm-q')\n",
    "        for backend in provider.backends():\n",
    "            try:\n",
    "                if \"simulator\" not in backend.name():\n",
    "                    queue = backend.status().pending_jobs\n",
    "                    qubit_count = len(backend.properties().qubits)\n",
    "                    if qubit_count >= qubits:\n",
    "                        if queue < lowest:\n",
    "                            lowest = queue\n",
    "                            quantum_comp = provider.get_backend(backend.name())\n",
    "                        print(f\"Quantum Computer {backend.name()} has {queue} queued jobs and {qubit_count} qubits\")\n",
    "                    else:\n",
    "                        print(f\"Quantum Computer {backend.name()} has {qubit_count} qubits, but we need {qubits} qubits\")\n",
    "            except:\n",
    "                print(f\"Quantum Computer {backend.name()} is not operational\")\n",
    "        if quantum_comp is None:\n",
    "            print(f\"No Quantum Computers available with {qubits} qubits, using simulator\")\n",
    "    if simulation == True or quantum_comp is None: # Execute the circuit on the simulator\n",
    "        quantum_comp = Aer.get_backend('qasm_simulator')\n",
    "    print(f\"Using Quantum Computer: {quantum_comp.name()} with {quantum_comp.status().pending_jobs} queued jobs\")\n",
    "    return quantum_comp\n",
    "\n",
    "# Create a Quantum Register with 2 qubits.\n",
    "qr = QuantumRegister(2)\n",
    "# Create a Classical Register with 2 bits.\n",
    "cr = ClassicalRegister(2)\n",
    "# Create a Quantum Circuit\n",
    "circuit = QuantumCircuit(qr, cr)\n",
    "# Get a quantum computer with at least the number of selected qubits for the circuit\n",
    "qc = get_quantum_computer(qubits=circuit.num_qubits, simulation=False)\n",
    "# Build the circuit\n",
    "circuit.h(qr[0])\n",
    "circuit.cx(qr[0], qr[1])\n",
    "circuit.measure(qr, cr)\n",
    "circuit.draw()"
   ]
  },
  {
   "cell_type": "code",
   "execution_count": 6,
   "metadata": {},
   "outputs": [
    {
     "data": {
      "image/png": "[encoded data removed]",
      "text/plain": [
       "<Figure size 700x500 with 1 Axes>"
      ]
     },
     "execution_count": 6,
     "metadata": {},
     "output_type": "execute_result"
    }
   ],
   "source": [
    "result = execute(circuit, backend=qc, shots=20).result()\n",
    "plot_histogram(result.get_counts(circuit))\n"
   ]
  }
 ],
 "metadata": {
  "kernelspec": {
   "display_name": "Python 3",
   "language": "python",
   "name": "python3"
  },
  "language_info": {
   "codemirror_mode": {
    "name": "ipython",
    "version": 3
   },
   "file_extension": ".py",
   "mimetype": "text/x-python",
   "name": "python",
   "nbconvert_exporter": "python",
   "pygments_lexer": "ipython3",
   "version": "3.10.6"
  },
  "orig_nbformat": 4,
  "vscode": {
   "interpreter": {
    "hash": "916dbcbb3f70747c44a77c7bcd40155683ae19c65e1c03b4aa3499c5328201f1"
   }
  }
 },
 "nbformat": 4,
 "nbformat_minor": 2
}
