{
 "cells": [
  {
   "cell_type": "code",
   "execution_count": 1,
   "metadata": {},
   "outputs": [
    {
     "name": "stderr",
     "output_type": "stream",
     "text": [
      "configrc.store_credentials:WARNING:2023-01-28 15:09:33,029: Credentials already present. Set overwrite=True to overwrite.\n"
     ]
    },
    {
     "data": {
      "text/plain": [
       "<AccountProvider for IBMQ(hub='ibm-q', group='open', project='main')>"
      ]
     },
     "execution_count": 1,
     "metadata": {},
     "output_type": "execute_result"
    }
   ],
   "source": [
    "import os\n",
    "import random\n",
    "import math\n",
    "from qiskit import QuantumRegister, ClassicalRegister, QuantumCircuit, execute, Aer, IBMQ\n",
    "from qiskit.tools.visualization import plot_histogram\n",
    "from qiskit_braket_provider import AWSBraketProvider, BraketLocalBackend\n",
    "from dotenv import load_dotenv\n",
    "# Load the API key from the .env file\n",
    "load_dotenv()\n",
    "IBMQ.save_account(os.getenv('IBM_TOKEN'))\n",
    "IBMQ.load_account()"
   ]
  },
  {
   "cell_type": "code",
   "execution_count": 36,
   "metadata": {},
   "outputs": [],
   "source": [
    "from skimage.transform import resize\n",
    "import imageio.v2 as image\n",
    "from numpy import linalg as LA\n",
    "import numpy as np\n",
    "\n",
    "def encode_image(filepath, qubits):\n",
    "    # Load the image data into a numpy array\n",
    "    if filepath.endswith(\".png\") or filepath.endswith(\".jpg\"):\n",
    "        image_data = image.imread(filepath)\n",
    "    else:\n",
    "        image_data=np.load(filepath)\n",
    "    # Convert the image to grayscale\n",
    "    image_data = np.dot(image_data[...,:3], [0.299, 0.587, 0.114])\n",
    "    # Normalize the image\n",
    "    image_data = image_data / LA.norm(image_data)\n",
    "    # Resize the image\n",
    "    image_data = resize(image_data, (int(np.sqrt(qubits)), int(np.sqrt(qubits))), anti_aliasing=True)\n",
    "    # Flatten the image\n",
    "    image_data = image_data.flatten()\n",
    "    # Normalize the image\n",
    "    image_data = image_data / LA.norm(image_data)\n",
    "    return image_data\n",
    "\n",
    "def encode_images(path=\"/home/josh/Repos/Logos/\", qubits=16):\n",
    "    encoded_images = {}\n",
    "    files = os.listdir(path)\n",
    "    for file in files:\n",
    "        if file.endswith(\".png\") or file.endswith(\".jpg\"):\n",
    "            encoded_images[file] = encode_image(path + file, qubits)\n",
    "    return encoded_images\n",
    "\n",
    "def decode_image(image, qubits, images=None, path=\"/home/josh/Repos/Logos/\"):\n",
    "    if images is None:\n",
    "        images = encode_images(path, qubits)\n",
    "    for img in images:\n",
    "        if np.array_equal(images[img], image):\n",
    "            return img\n",
    "    return \"Image not found\"\n",
    "\n"
   ]
  },
  {
   "cell_type": "code",
   "execution_count": 37,
   "metadata": {},
   "outputs": [
    {
     "data": {
      "text/plain": [
       "6"
      ]
     },
     "execution_count": 37,
     "metadata": {},
     "output_type": "execute_result"
    }
   ],
   "source": [
    "path = \"/home/josh/Repos/Logos/\"\n",
    "qubits = 16\n",
    "images = encode_images(path, qubits)\n",
    "len(images)\n"
   ]
  },
  {
   "cell_type": "code",
   "execution_count": 5,
   "metadata": {},
   "outputs": [],
   "source": [
    "fp = \"/home/josh/Repos/Logos/Wallpaper.jpg\"\n",
    "image_data = encode_image(fp, qubits)"
   ]
  },
  {
   "cell_type": "code",
   "execution_count": 6,
   "metadata": {},
   "outputs": [
    {
     "data": {
      "text/plain": [
       "'Wallpaper.jpg'"
      ]
     },
     "execution_count": 6,
     "metadata": {},
     "output_type": "execute_result"
    }
   ],
   "source": [
    "decode_image(image_data, qubits, images)"
   ]
  },
  {
   "cell_type": "code",
   "execution_count": 12,
   "metadata": {},
   "outputs": [],
   "source": [
    "def get_circuit(qubits, image_data):\n",
    "    # Create a quantum circuit\n",
    "    qr = QuantumRegister(qubits)\n",
    "    cr = ClassicalRegister(qubits)\n",
    "    qc = QuantumCircuit(qr, cr)\n",
    "    # Initialize the quantum circuit\n",
    "    qc.initialize(image_data, qr)\n",
    "    # Add the measurement\n",
    "    qc.measure(qr, cr)\n",
    "    return qc\n",
    "\n",
    "qc = get_circuit(4, image_data)"
   ]
  },
  {
   "cell_type": "code",
   "execution_count": 13,
   "metadata": {},
   "outputs": [
    {
     "data": {
      "text/html": [
       "<pre style=\"word-wrap: normal;white-space: pre;background: #fff0;line-height: 1.1;font-family: &quot;Courier New&quot;,Courier,monospace\">      »\n",
       "q0_0: »\n",
       "      »\n",
       "q0_1: »\n",
       "      »\n",
       "q0_2: »\n",
       "      »\n",
       "q0_3: »\n",
       "      »\n",
       "c0: 4/»\n",
       "      »\n",
       "«      ┌──────────────────────────────────────────────────────────────────────────────────────────────────────────────────────────────────────────────────────┐»\n",
       "«q0_0: ┤0                                                                                                                                                     ├»\n",
       "«      │                                                                                                                                                      │»\n",
       "«q0_1: ┤1                                                                                                                                                     ├»\n",
       "«      │  Initialize(0.010589,0.034829,0.035161,0.011702,0.12665,0.51696,0.48561,0.11636,0.14616,0.49077,0.42398,0.10129,0.032945,0.073937,0.070474,0.030092) │»\n",
       "«q0_2: ┤2                                                                                                                                                     ├»\n",
       "«      │                                                                                                                                                      │»\n",
       "«q0_3: ┤3                                                                                                                                                     ├»\n",
       "«      └──────────────────────────────────────────────────────────────────────────────────────────────────────────────────────────────────────────────────────┘»\n",
       "«c0: 4/════════════════════════════════════════════════════════════════════════════════════════════════════════════════════════════════════════════════════════»\n",
       "«                                                                                                                                                              »\n",
       "«      ┌─┐         \n",
       "«q0_0: ┤M├─────────\n",
       "«      └╥┘┌─┐      \n",
       "«q0_1: ─╫─┤M├──────\n",
       "«       ║ └╥┘┌─┐   \n",
       "«q0_2: ─╫──╫─┤M├───\n",
       "«       ║  ║ └╥┘┌─┐\n",
       "«q0_3: ─╫──╫──╫─┤M├\n",
       "«       ║  ║  ║ └╥┘\n",
       "«c0: 4/═╩══╩══╩══╩═\n",
       "«       0  1  2  3 </pre>"
      ],
      "text/plain": [
       "      »\n",
       "q0_0: »\n",
       "      »\n",
       "q0_1: »\n",
       "      »\n",
       "q0_2: »\n",
       "      »\n",
       "q0_3: »\n",
       "      »\n",
       "c0: 4/»\n",
       "      »\n",
       "«      ┌──────────────────────────────────────────────────────────────────────────────────────────────────────────────────────────────────────────────────────┐»\n",
       "«q0_0: ┤0                                                                                                                                                     ├»\n",
       "«      │                                                                                                                                                      │»\n",
       "«q0_1: ┤1                                                                                                                                                     ├»\n",
       "«      │  Initialize(0.010589,0.034829,0.035161,0.011702,0.12665,0.51696,0.48561,0.11636,0.14616,0.49077,0.42398,0.10129,0.032945,0.073937,0.070474,0.030092) │»\n",
       "«q0_2: ┤2                                                                                                                                                     ├»\n",
       "«      │                                                                                                                                                      │»\n",
       "«q0_3: ┤3                                                                                                                                                     ├»\n",
       "«      └──────────────────────────────────────────────────────────────────────────────────────────────────────────────────────────────────────────────────────┘»\n",
       "«c0: 4/════════════════════════════════════════════════════════════════════════════════════════════════════════════════════════════════════════════════════════»\n",
       "«                                                                                                                                                              »\n",
       "«      ┌─┐         \n",
       "«q0_0: ┤M├─────────\n",
       "«      └╥┘┌─┐      \n",
       "«q0_1: ─╫─┤M├──────\n",
       "«       ║ └╥┘┌─┐   \n",
       "«q0_2: ─╫──╫─┤M├───\n",
       "«       ║  ║ └╥┘┌─┐\n",
       "«q0_3: ─╫──╫──╫─┤M├\n",
       "«       ║  ║  ║ └╥┘\n",
       "«c0: 4/═╩══╩══╩══╩═\n",
       "«       0  1  2  3 "
      ]
     },
     "execution_count": 13,
     "metadata": {},
     "output_type": "execute_result"
    }
   ],
   "source": [
    "qc.draw()"
   ]
  },
  {
   "cell_type": "code",
   "execution_count": 27,
   "metadata": {},
   "outputs": [
    {
     "name": "stdout",
     "output_type": "stream",
     "text": [
      "{'0010': 1, '0100': 16, '0001': 2, '0111': 12, '1011': 8, '1110': 8, '0101': 279, '1010': 179, '1101': 3, '0110': 247, '1000': 15, '1001': 254}\n"
     ]
    },
    {
     "data": {
      "image/png": "[encoded data removed]",
      "text/plain": [
       "<Figure size 700x500 with 1 Axes>"
      ]
     },
     "execution_count": 27,
     "metadata": {},
     "output_type": "execute_result"
    }
   ],
   "source": [
    "# Run the circuit on the local simulator\n",
    "backend = Aer.get_backend('qasm_simulator')\n",
    "job = execute(qc, backend, shots=1024)\n",
    "result = job.result()\n",
    "counts = result.get_counts(qc)\n",
    "print(counts)\n",
    "plot_histogram(counts)"
   ]
  }
 ],
 "metadata": {
  "kernelspec": {
   "display_name": "Python 3",
   "language": "python",
   "name": "python3"
  },
  "language_info": {
   "codemirror_mode": {
    "name": "ipython",
    "version": 3
   },
   "file_extension": ".py",
   "mimetype": "text/x-python",
   "name": "python",
   "nbconvert_exporter": "python",
   "pygments_lexer": "ipython3",
   "version": "3.10.6"
  },
  "orig_nbformat": 4,
  "vscode": {
   "interpreter": {
    "hash": "916dbcbb3f70747c44a77c7bcd40155683ae19c65e1c03b4aa3499c5328201f1"
   }
  }
 },
 "nbformat": 4,
 "nbformat_minor": 2
}
